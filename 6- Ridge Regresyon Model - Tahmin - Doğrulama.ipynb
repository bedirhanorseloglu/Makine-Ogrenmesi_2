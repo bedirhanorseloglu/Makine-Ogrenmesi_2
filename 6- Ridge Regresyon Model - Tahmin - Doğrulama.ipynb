{
 "cells": [
  {
   "cell_type": "markdown",
   "metadata": {},
   "source": [
    "# MODEL"
   ]
  },
  {
   "cell_type": "code",
   "execution_count": 29,
   "metadata": {},
   "outputs": [],
   "source": [
    "# Gerekli kütüphanler\n",
    "\n",
    "import numpy as np\n",
    "import pandas as pd\n",
    "from sklearn.linear_model import Ridge\n",
    "from sklearn.metrics import mean_squared_error , r2_score\n",
    "from sklearn.model_selection import train_test_split\n",
    "from sklearn.model_selection import cross_val_score\n",
    "from sklearn import model_selection\n",
    "import matplotlib.pyplot as plt\n",
    "from sklearn.linear_model import RidgeCV"
   ]
  },
  {
   "cell_type": "code",
   "execution_count": 8,
   "metadata": {},
   "outputs": [],
   "source": [
    "# Veri Seti (Beyzbol ile ilgili terimlerden oluşuyor.)\n",
    "\n",
    "df = pd.read_csv(\"C:\\python_py\\Makine Öğrenmesi-2\\Hitters.csv\")\n",
    "df = df.dropna()\n",
    "dms = pd.get_dummies(df[[\"League\" , \"Division\" , \"NewLeague\"]])     # kategorik değişkenleri dummy değişkene çevirdik.\n",
    "y = df[\"Salary\"]\n",
    "\n",
    "# Özetle bu iki satırda yaptığımız işlem:\n",
    "# kategorik değişkenleri dummy değişkenlere çevirip dummy değişkenleri veri setinde tutarak diğer değişkenleri ve bağımlı değişkeni bağımsızların dışında bıraktık.\n",
    "x__ = df.drop([\"Salary\" , \"League\" , \"Division\" , \"NewLeague\"] , axis=1).astype(\"float64\")     # Dummy oluşturduğumuz için kategorik değişkenlerin kendilerini de attık. \n",
    "x = pd.concat([x__ , dms[[\"League_N\" , \"Division_W\" , \"NewLeague_N\"]]] , axis=1)       # bağımsız değişkenlerimizin nihai halini oluşturmuş olduk (oluşturduğumuz dummy'ler + üstteki bağımsız değişkenler)\n",
    "\n",
    "\n",
    "x_train , x_test , y_train , y_test = train_test_split(x , y , test_size=0.25 , random_state=42)"
   ]
  },
  {
   "cell_type": "code",
   "execution_count": 9,
   "metadata": {},
   "outputs": [
    {
     "data": {
      "text/html": [
       "<div>\n",
       "<style scoped>\n",
       "    .dataframe tbody tr th:only-of-type {\n",
       "        vertical-align: middle;\n",
       "    }\n",
       "\n",
       "    .dataframe tbody tr th {\n",
       "        vertical-align: top;\n",
       "    }\n",
       "\n",
       "    .dataframe thead th {\n",
       "        text-align: right;\n",
       "    }\n",
       "</style>\n",
       "<table border=\"1\" class=\"dataframe\">\n",
       "  <thead>\n",
       "    <tr style=\"text-align: right;\">\n",
       "      <th></th>\n",
       "      <th>AtBat</th>\n",
       "      <th>Hits</th>\n",
       "      <th>HmRun</th>\n",
       "      <th>Runs</th>\n",
       "      <th>RBI</th>\n",
       "      <th>Walks</th>\n",
       "      <th>Years</th>\n",
       "      <th>CAtBat</th>\n",
       "      <th>CHits</th>\n",
       "      <th>CHmRun</th>\n",
       "      <th>CRuns</th>\n",
       "      <th>CRBI</th>\n",
       "      <th>CWalks</th>\n",
       "      <th>League</th>\n",
       "      <th>Division</th>\n",
       "      <th>PutOuts</th>\n",
       "      <th>Assists</th>\n",
       "      <th>Errors</th>\n",
       "      <th>Salary</th>\n",
       "      <th>NewLeague</th>\n",
       "    </tr>\n",
       "  </thead>\n",
       "  <tbody>\n",
       "    <tr>\n",
       "      <th>1</th>\n",
       "      <td>315</td>\n",
       "      <td>81</td>\n",
       "      <td>7</td>\n",
       "      <td>24</td>\n",
       "      <td>38</td>\n",
       "      <td>39</td>\n",
       "      <td>14</td>\n",
       "      <td>3449</td>\n",
       "      <td>835</td>\n",
       "      <td>69</td>\n",
       "      <td>321</td>\n",
       "      <td>414</td>\n",
       "      <td>375</td>\n",
       "      <td>N</td>\n",
       "      <td>W</td>\n",
       "      <td>632</td>\n",
       "      <td>43</td>\n",
       "      <td>10</td>\n",
       "      <td>475.0</td>\n",
       "      <td>N</td>\n",
       "    </tr>\n",
       "    <tr>\n",
       "      <th>2</th>\n",
       "      <td>479</td>\n",
       "      <td>130</td>\n",
       "      <td>18</td>\n",
       "      <td>66</td>\n",
       "      <td>72</td>\n",
       "      <td>76</td>\n",
       "      <td>3</td>\n",
       "      <td>1624</td>\n",
       "      <td>457</td>\n",
       "      <td>63</td>\n",
       "      <td>224</td>\n",
       "      <td>266</td>\n",
       "      <td>263</td>\n",
       "      <td>A</td>\n",
       "      <td>W</td>\n",
       "      <td>880</td>\n",
       "      <td>82</td>\n",
       "      <td>14</td>\n",
       "      <td>480.0</td>\n",
       "      <td>A</td>\n",
       "    </tr>\n",
       "    <tr>\n",
       "      <th>3</th>\n",
       "      <td>496</td>\n",
       "      <td>141</td>\n",
       "      <td>20</td>\n",
       "      <td>65</td>\n",
       "      <td>78</td>\n",
       "      <td>37</td>\n",
       "      <td>11</td>\n",
       "      <td>5628</td>\n",
       "      <td>1575</td>\n",
       "      <td>225</td>\n",
       "      <td>828</td>\n",
       "      <td>838</td>\n",
       "      <td>354</td>\n",
       "      <td>N</td>\n",
       "      <td>E</td>\n",
       "      <td>200</td>\n",
       "      <td>11</td>\n",
       "      <td>3</td>\n",
       "      <td>500.0</td>\n",
       "      <td>N</td>\n",
       "    </tr>\n",
       "    <tr>\n",
       "      <th>4</th>\n",
       "      <td>321</td>\n",
       "      <td>87</td>\n",
       "      <td>10</td>\n",
       "      <td>39</td>\n",
       "      <td>42</td>\n",
       "      <td>30</td>\n",
       "      <td>2</td>\n",
       "      <td>396</td>\n",
       "      <td>101</td>\n",
       "      <td>12</td>\n",
       "      <td>48</td>\n",
       "      <td>46</td>\n",
       "      <td>33</td>\n",
       "      <td>N</td>\n",
       "      <td>E</td>\n",
       "      <td>805</td>\n",
       "      <td>40</td>\n",
       "      <td>4</td>\n",
       "      <td>91.5</td>\n",
       "      <td>N</td>\n",
       "    </tr>\n",
       "    <tr>\n",
       "      <th>5</th>\n",
       "      <td>594</td>\n",
       "      <td>169</td>\n",
       "      <td>4</td>\n",
       "      <td>74</td>\n",
       "      <td>51</td>\n",
       "      <td>35</td>\n",
       "      <td>11</td>\n",
       "      <td>4408</td>\n",
       "      <td>1133</td>\n",
       "      <td>19</td>\n",
       "      <td>501</td>\n",
       "      <td>336</td>\n",
       "      <td>194</td>\n",
       "      <td>A</td>\n",
       "      <td>W</td>\n",
       "      <td>282</td>\n",
       "      <td>421</td>\n",
       "      <td>25</td>\n",
       "      <td>750.0</td>\n",
       "      <td>A</td>\n",
       "    </tr>\n",
       "  </tbody>\n",
       "</table>\n",
       "</div>"
      ],
      "text/plain": [
       "   AtBat  Hits  HmRun  Runs  RBI  Walks  Years  CAtBat  CHits  CHmRun  CRuns   \n",
       "1    315    81      7    24   38     39     14    3449    835      69    321  \\\n",
       "2    479   130     18    66   72     76      3    1624    457      63    224   \n",
       "3    496   141     20    65   78     37     11    5628   1575     225    828   \n",
       "4    321    87     10    39   42     30      2     396    101      12     48   \n",
       "5    594   169      4    74   51     35     11    4408   1133      19    501   \n",
       "\n",
       "   CRBI  CWalks League Division  PutOuts  Assists  Errors  Salary NewLeague  \n",
       "1   414     375      N        W      632       43      10   475.0         N  \n",
       "2   266     263      A        W      880       82      14   480.0         A  \n",
       "3   838     354      N        E      200       11       3   500.0         N  \n",
       "4    46      33      N        E      805       40       4    91.5         N  \n",
       "5   336     194      A        W      282      421      25   750.0         A  "
      ]
     },
     "execution_count": 9,
     "metadata": {},
     "output_type": "execute_result"
    }
   ],
   "source": [
    "df.head()"
   ]
  },
  {
   "cell_type": "code",
   "execution_count": 11,
   "metadata": {},
   "outputs": [
    {
     "data": {
      "text/plain": [
       "(263, 20)"
      ]
     },
     "execution_count": 11,
     "metadata": {},
     "output_type": "execute_result"
    }
   ],
   "source": [
    "df.shape"
   ]
  },
  {
   "cell_type": "markdown",
   "metadata": {},
   "source": [
    "- Ridge Regresyondaki Alfa (= formülümüzdeki lambda λ parametresi) Nedir?\n",
    "\n",
    "\n",
    "Alfa (= formülümüzdeki lambda λ parametresi), Ridge regresyonunun düzenlileştirme etkisini kontrol eden bir parametredir. Bu parametre, regresyon katsayılarının ne kadar büyük olmasına izin verileceğini belirler. Daha büyük bir alfa değeri, katsayıların daha küçük ve sıkışık olmasına yol açar, bu da modelin aşırı uyum riskini azaltabilir, ancak aynı zamanda modelin esnekliğini kısıtlayabilir. Daha küçük bir alfa değeri, katsayıların daha büyük olmasına izin verir ve modelin verilere daha yakın oturmasına neden olabilir, ancak aşırı uyum riski artabilir."
   ]
  },
  {
   "cell_type": "code",
   "execution_count": 19,
   "metadata": {},
   "outputs": [],
   "source": [
    "ridge_model = Ridge(alpha=0.1).fit(x_train , y_train)    # fit etmeyi bu şekilde de gerçekleştirebiliriz. -> model kurdum demek bu kadar aslında"
   ]
  },
  {
   "cell_type": "code",
   "execution_count": 21,
   "metadata": {},
   "outputs": [
    {
     "data": {
      "text/plain": [
       "array([ -1.77435737,   8.80240528,   7.29595605,  -3.33257639,\n",
       "        -2.08316481,   5.42531283,   7.58514945,  -0.13752764,\n",
       "        -0.20779701,  -0.60361067,   1.7927957 ,   0.72866408,\n",
       "        -0.68710375,   0.26153564,   0.26888652,  -0.52674278,\n",
       "       112.14640272, -99.80997876, -48.07152768])"
      ]
     },
     "execution_count": 21,
     "metadata": {},
     "output_type": "execute_result"
    }
   ],
   "source": [
    "ridge_model.coef_   # b1 , b2 , b3...\n",
    "\n"
   ]
  },
  {
   "cell_type": "code",
   "execution_count": 22,
   "metadata": {},
   "outputs": [
    {
     "data": {
      "text/plain": [
       "-4.5786269057206255"
      ]
     },
     "execution_count": 22,
     "metadata": {},
     "output_type": "execute_result"
    }
   ],
   "source": [
    "ridge_model.intercept_  # b0"
   ]
  },
  {
   "cell_type": "markdown",
   "metadata": {},
   "source": [
    "# TAHMİN"
   ]
  },
  {
   "cell_type": "code",
   "execution_count": 24,
   "metadata": {},
   "outputs": [
    {
     "data": {
      "text/plain": [
       "array([ 377.32722972,  802.33593374,  495.66497455,  112.55723373,\n",
       "        426.36377192, 1004.17111652,  154.60488574,  362.44112621,\n",
       "        485.16325501,  918.52163204, 1621.10775334,  818.04761824,\n",
       "        920.88184597,  739.20423491,  645.71641635,  706.93566474,\n",
       "       1139.9491843 ,   40.91367448,  213.27383013,  406.89150389,\n",
       "        709.89358202, 1085.20352009,  474.18037697,  392.47016564,\n",
       "         13.90916672,  757.41269763,  561.32351629,  186.61572852,\n",
       "        339.30739236,  319.84763625,  203.51136096,  500.63531441,\n",
       "        949.39753214,  299.61528061,  492.72700962,  425.29372691,\n",
       "        421.50833755,  676.37246687,  292.01621128,  204.7820655 ,\n",
       "        214.70918789,  322.02090488,  202.20359566,  133.93043147,\n",
       "        226.4089696 , 1089.86826738,  331.04046671,  530.27858352,\n",
       "        343.24418499,  322.75794204,  539.36798843,  442.83336413,\n",
       "        331.49041516,  450.80873849,  655.78728069,  282.26455005,\n",
       "        452.81925756,  713.14983579,  270.24840046, 1530.11024891,\n",
       "        297.00409543,  165.02256026,  205.37925444,  226.85954321,\n",
       "        191.94753529,  752.3894145 ,  117.7846471 ,  425.05061155,\n",
       "        278.68533791,  316.40167206,  278.81517743,  877.0658726 ,\n",
       "        745.54450723,  724.56834754, 1484.72868787,  440.80733354,\n",
       "        584.99942987,  522.62452062,  283.40720399, 1042.54726803,\n",
       "        660.03095157,  517.40560932,  609.2888807 ,  705.42694791,\n",
       "        125.36519368,  745.38471029,  798.18796901, 1089.22046844,\n",
       "       1108.73983693,  685.29317364,  335.15318684,  189.15939375,\n",
       "       1179.56677734,  195.36562457,  433.80467767, 1244.2094545 ,\n",
       "       1101.68522761,  459.76081015,  742.19527234,  738.49340827,\n",
       "        353.29681616,  270.19897712,  625.93779379, 1315.29325865,\n",
       "        463.48696755, 1316.93786335,  754.63203986,  207.42133157,\n",
       "         23.32423971,  703.24072113,  731.31047358,  455.59535819,\n",
       "        291.61998328,  585.88331125,  503.51362744,  522.55385854,\n",
       "        923.72162487,  705.95670235,  336.48636143,  401.56819498,\n",
       "        584.2453205 ,  699.51289434, 1132.07695404,  221.34529751,\n",
       "         80.89075561,  437.90024881, 1341.13788431,  162.23059696,\n",
       "        120.72206498,  507.87307089,  910.19264536,  742.03688741,\n",
       "       1091.26196655,  827.95848403,  871.12798835,  282.98230934,\n",
       "        681.78677666,  362.94104826,  267.64514206,  865.06604997,\n",
       "         35.43979648,  380.37396367,  443.69497334,  593.66313831,\n",
       "        211.80018916,  286.35305266,  155.2560131 ,  424.08057573,\n",
       "        473.3767186 , 1130.19871472,  189.55284249,   81.74571619,\n",
       "        169.71626163,  164.16490894,  848.19932519,  192.98815354,\n",
       "       1051.05008472,   93.88537309,  876.31801531,  557.94756659,\n",
       "        268.82225866,  353.92581341, 1354.7097879 ,  126.63476037,\n",
       "        544.83362181,  727.39662617,  420.73882832,  210.08480816,\n",
       "        689.00654454,  607.23622254,  770.83838389,  259.2660187 ,\n",
       "        635.83734429,  814.28222548,  259.6209283 ,  309.63771944,\n",
       "        362.62920928,  689.66808663,  545.11622087, 1063.08358222,\n",
       "        206.83469106,  471.48869143,  195.76540601,  614.64135617,\n",
       "        470.9812628 ,  773.40092906,  730.49017624,  556.8034307 ,\n",
       "        151.77233296,  398.4758332 ,  156.50531147,  830.22666366,\n",
       "       1243.67896399, 1234.03380489,  380.16060757,  734.79012882,\n",
       "        151.29096213])"
      ]
     },
     "execution_count": 24,
     "metadata": {},
     "output_type": "execute_result"
    }
   ],
   "source": [
    "y_pred = ridge_model.predict(x_train)\n",
    "y_pred  # tahmin edilen değerler"
   ]
  },
  {
   "cell_type": "code",
   "execution_count": 25,
   "metadata": {},
   "outputs": [
    {
     "data": {
      "text/plain": [
       "183     125.000\n",
       "229    1940.000\n",
       "286     940.000\n",
       "102     375.000\n",
       "153     100.000\n",
       "         ...   \n",
       "24      776.667\n",
       "236     750.000\n",
       "93      145.000\n",
       "137     430.000\n",
       "133      87.500\n",
       "Name: Salary, Length: 197, dtype: float64"
      ]
     },
     "execution_count": 25,
     "metadata": {},
     "output_type": "execute_result"
    }
   ],
   "source": [
    "y_train # gerçek değerler"
   ]
  },
  {
   "cell_type": "code",
   "execution_count": 27,
   "metadata": {},
   "outputs": [
    {
     "data": {
      "text/plain": [
       "289.3294761170452"
      ]
     },
     "execution_count": 27,
     "metadata": {},
     "output_type": "execute_result"
    }
   ],
   "source": [
    "# Eğitim setimizin hata(RMSE) oranına bakalım -> Genellikle model tuning bölümünde modelleri doğrulamak (en iyi parametreleri seçmek) için uygulayacağız\n",
    "\n",
    "RMSE = np.sqrt(mean_squared_error(y_train , y_pred))\n",
    "RMSE"
   ]
  },
  {
   "cell_type": "code",
   "execution_count": 31,
   "metadata": {},
   "outputs": [
    {
     "data": {
      "text/plain": [
       "123744.6504693825"
      ]
     },
     "execution_count": 31,
     "metadata": {},
     "output_type": "execute_result"
    }
   ],
   "source": [
    "# Çapraz doğrulanmış hata oranımız -> Eğitim seti üzerine uygulayacağız model tuningde\n",
    "\n",
    "np.mean(-cross_val_score(ridge_model , x_train , y_train , cv=10 , scoring=\"neg_mean_squared_error\"))"
   ]
  },
  {
   "cell_type": "code",
   "execution_count": 32,
   "metadata": {},
   "outputs": [
    {
     "data": {
      "text/plain": [
       "351.77357841285135"
      ]
     },
     "execution_count": 32,
     "metadata": {},
     "output_type": "execute_result"
    }
   ],
   "source": [
    "# Çapraz doğrulanmış hata kareler ortalamasının karekök değeri -> DOĞRULANMIŞ HATA ORANIMIZ\n",
    "\n",
    "np.sqrt(np.mean(-cross_val_score(ridge_model , x_train , y_train , cv=10 , scoring=\"neg_mean_squared_error\")))\n",
    "\n",
    "# RMSE ve bu hata oranını karşılaştır. Bu hata oranının daha düşük olaması daha iyi anlama gelmez. Bu son bulduğumuz hata oranı daha doğru bir hata oranı. Bu hata oranına göre hareket edersek daha doğru"
   ]
  },
  {
   "cell_type": "code",
   "execution_count": 34,
   "metadata": {},
   "outputs": [
    {
     "data": {
      "text/plain": [
       "357.0239252607652"
      ]
     },
     "execution_count": 34,
     "metadata": {},
     "output_type": "execute_result"
    }
   ],
   "source": [
    "# Test setimizin hata oranı\n",
    "\n",
    "y_pred = ridge_model.predict(x_test)    # x'in test setinin bağımsız değişkenlerini kullanarak y'yi tahmin ettik\n",
    "\n",
    "RMSE = np.sqrt(mean_squared_error(y_test , y_pred))     # daha sonra bu tahmin ettiğimiz y ile gerçek y yi karşılaştırdık\n",
    "RMSE"
   ]
  },
  {
   "cell_type": "markdown",
   "metadata": {},
   "source": [
    "# MODEL TUNİNG\n",
    "\n",
    "    Neden Model Tuning?\n",
    "\n",
    "Bize en az hata oranını verecek olan alfa (lambda) değerini bulmak için "
   ]
  },
  {
   "cell_type": "code",
   "execution_count": 35,
   "metadata": {},
   "outputs": [
    {
     "data": {
      "text/plain": [
       "356.8082905730236"
      ]
     },
     "execution_count": 35,
     "metadata": {},
     "output_type": "execute_result"
    }
   ],
   "source": [
    "ridge_model = Ridge().fit(x_train , y_train)\n",
    "y_pred = ridge_model.predict(x_test)\n",
    "np.sqrt(mean_squared_error(y_test , y_pred))"
   ]
  },
  {
   "cell_type": "code",
   "execution_count": 37,
   "metadata": {},
   "outputs": [
    {
     "data": {
      "text/plain": [
       "array([110, 920, 922, 695, 819,  68, 561, 715, 486, 679, 549, 494, 907,\n",
       "       384, 809, 215, 332, 139, 716, 612, 172, 224, 462, 683, 945, 164,\n",
       "       580, 808, 244, 959, 104, 781, 771, 400, 305, 395, 549, 824,  33,\n",
       "       463,  60, 953, 402, 194, 953,  13, 272, 936, 383, 275, 161, 581,\n",
       "       538, 253, 224, 985, 867, 118, 605, 815, 910, 288, 573, 967, 967,\n",
       "       467, 649, 244, 606, 892,  52, 696, 315, 794, 732, 827, 283, 982,\n",
       "       142, 201, 486, 351, 346, 213, 633, 838, 519, 862,   8, 705, 269,\n",
       "       118, 448, 783, 189,  12, 331, 551, 250, 237])"
      ]
     },
     "execution_count": 37,
     "metadata": {},
     "output_type": "execute_result"
    }
   ],
   "source": [
    "lambdalar1 = np.random.randint(0,1000,100)"
   ]
  },
  {
   "cell_type": "code",
   "execution_count": 45,
   "metadata": {},
   "outputs": [],
   "source": [
    "lambdalar2 = 10**np.linspace(10,-2,100)*0.5"
   ]
  },
  {
   "cell_type": "markdown",
   "metadata": {},
   "source": [
    "- Farklı lambda değerlerine karşılık olarak oluşabilecek farklı katsayılara ilişkin hatalarımızı incelemeye çalışacağız -> optimum alfa (lambda) değerini bulacağız"
   ]
  },
  {
   "cell_type": "code",
   "execution_count": 46,
   "metadata": {},
   "outputs": [
    {
     "data": {
      "text/html": [
       "<style>#sk-container-id-5 {color: black;}#sk-container-id-5 pre{padding: 0;}#sk-container-id-5 div.sk-toggleable {background-color: white;}#sk-container-id-5 label.sk-toggleable__label {cursor: pointer;display: block;width: 100%;margin-bottom: 0;padding: 0.3em;box-sizing: border-box;text-align: center;}#sk-container-id-5 label.sk-toggleable__label-arrow:before {content: \"▸\";float: left;margin-right: 0.25em;color: #696969;}#sk-container-id-5 label.sk-toggleable__label-arrow:hover:before {color: black;}#sk-container-id-5 div.sk-estimator:hover label.sk-toggleable__label-arrow:before {color: black;}#sk-container-id-5 div.sk-toggleable__content {max-height: 0;max-width: 0;overflow: hidden;text-align: left;background-color: #f0f8ff;}#sk-container-id-5 div.sk-toggleable__content pre {margin: 0.2em;color: black;border-radius: 0.25em;background-color: #f0f8ff;}#sk-container-id-5 input.sk-toggleable__control:checked~div.sk-toggleable__content {max-height: 200px;max-width: 100%;overflow: auto;}#sk-container-id-5 input.sk-toggleable__control:checked~label.sk-toggleable__label-arrow:before {content: \"▾\";}#sk-container-id-5 div.sk-estimator input.sk-toggleable__control:checked~label.sk-toggleable__label {background-color: #d4ebff;}#sk-container-id-5 div.sk-label input.sk-toggleable__control:checked~label.sk-toggleable__label {background-color: #d4ebff;}#sk-container-id-5 input.sk-hidden--visually {border: 0;clip: rect(1px 1px 1px 1px);clip: rect(1px, 1px, 1px, 1px);height: 1px;margin: -1px;overflow: hidden;padding: 0;position: absolute;width: 1px;}#sk-container-id-5 div.sk-estimator {font-family: monospace;background-color: #f0f8ff;border: 1px dotted black;border-radius: 0.25em;box-sizing: border-box;margin-bottom: 0.5em;}#sk-container-id-5 div.sk-estimator:hover {background-color: #d4ebff;}#sk-container-id-5 div.sk-parallel-item::after {content: \"\";width: 100%;border-bottom: 1px solid gray;flex-grow: 1;}#sk-container-id-5 div.sk-label:hover label.sk-toggleable__label {background-color: #d4ebff;}#sk-container-id-5 div.sk-serial::before {content: \"\";position: absolute;border-left: 1px solid gray;box-sizing: border-box;top: 0;bottom: 0;left: 50%;z-index: 0;}#sk-container-id-5 div.sk-serial {display: flex;flex-direction: column;align-items: center;background-color: white;padding-right: 0.2em;padding-left: 0.2em;position: relative;}#sk-container-id-5 div.sk-item {position: relative;z-index: 1;}#sk-container-id-5 div.sk-parallel {display: flex;align-items: stretch;justify-content: center;background-color: white;position: relative;}#sk-container-id-5 div.sk-item::before, #sk-container-id-5 div.sk-parallel-item::before {content: \"\";position: absolute;border-left: 1px solid gray;box-sizing: border-box;top: 0;bottom: 0;left: 50%;z-index: -1;}#sk-container-id-5 div.sk-parallel-item {display: flex;flex-direction: column;z-index: 1;position: relative;background-color: white;}#sk-container-id-5 div.sk-parallel-item:first-child::after {align-self: flex-end;width: 50%;}#sk-container-id-5 div.sk-parallel-item:last-child::after {align-self: flex-start;width: 50%;}#sk-container-id-5 div.sk-parallel-item:only-child::after {width: 0;}#sk-container-id-5 div.sk-dashed-wrapped {border: 1px dashed gray;margin: 0 0.4em 0.5em 0.4em;box-sizing: border-box;padding-bottom: 0.4em;background-color: white;}#sk-container-id-5 div.sk-label label {font-family: monospace;font-weight: bold;display: inline-block;line-height: 1.2em;}#sk-container-id-5 div.sk-label-container {text-align: center;}#sk-container-id-5 div.sk-container {/* jupyter's `normalize.less` sets `[hidden] { display: none; }` but bootstrap.min.css set `[hidden] { display: none !important; }` so we also need the `!important` here to be able to override the default hidden behavior on the sphinx rendered scikit-learn.org. See: https://github.com/scikit-learn/scikit-learn/issues/21755 */display: inline-block !important;position: relative;}#sk-container-id-5 div.sk-text-repr-fallback {display: none;}</style><div id=\"sk-container-id-5\" class=\"sk-top-container\"><div class=\"sk-text-repr-fallback\"><pre>RidgeCV(alphas=array([5.00000000e+09, 3.78231664e+09, 2.86118383e+09, 2.16438064e+09,\n",
       "       1.63727458e+09, 1.23853818e+09, 9.36908711e+08, 7.08737081e+08,\n",
       "       5.36133611e+08, 4.05565415e+08, 3.06795364e+08, 2.32079442e+08,\n",
       "       1.75559587e+08, 1.32804389e+08, 1.00461650e+08, 7.59955541e+07,\n",
       "       5.74878498e+07, 4.34874501e+07, 3.28966612e+07, 2.48851178e+07,\n",
       "       1.88246790e+07, 1.42401793e+0...\n",
       "       3.06795364e+00, 2.32079442e+00, 1.75559587e+00, 1.32804389e+00,\n",
       "       1.00461650e+00, 7.59955541e-01, 5.74878498e-01, 4.34874501e-01,\n",
       "       3.28966612e-01, 2.48851178e-01, 1.88246790e-01, 1.42401793e-01,\n",
       "       1.07721735e-01, 8.14875417e-02, 6.16423370e-02, 4.66301673e-02,\n",
       "       3.52740116e-02, 2.66834962e-02, 2.01850863e-02, 1.52692775e-02,\n",
       "       1.15506485e-02, 8.73764200e-03, 6.60970574e-03, 5.00000000e-03]),\n",
       "        cv=10, scoring=&#x27;neg_mean_squared_error&#x27;)</pre><b>In a Jupyter environment, please rerun this cell to show the HTML representation or trust the notebook. <br />On GitHub, the HTML representation is unable to render, please try loading this page with nbviewer.org.</b></div><div class=\"sk-container\" hidden><div class=\"sk-item\"><div class=\"sk-estimator sk-toggleable\"><input class=\"sk-toggleable__control sk-hidden--visually\" id=\"sk-estimator-id-5\" type=\"checkbox\" checked><label for=\"sk-estimator-id-5\" class=\"sk-toggleable__label sk-toggleable__label-arrow\">RidgeCV</label><div class=\"sk-toggleable__content\"><pre>RidgeCV(alphas=array([5.00000000e+09, 3.78231664e+09, 2.86118383e+09, 2.16438064e+09,\n",
       "       1.63727458e+09, 1.23853818e+09, 9.36908711e+08, 7.08737081e+08,\n",
       "       5.36133611e+08, 4.05565415e+08, 3.06795364e+08, 2.32079442e+08,\n",
       "       1.75559587e+08, 1.32804389e+08, 1.00461650e+08, 7.59955541e+07,\n",
       "       5.74878498e+07, 4.34874501e+07, 3.28966612e+07, 2.48851178e+07,\n",
       "       1.88246790e+07, 1.42401793e+0...\n",
       "       3.06795364e+00, 2.32079442e+00, 1.75559587e+00, 1.32804389e+00,\n",
       "       1.00461650e+00, 7.59955541e-01, 5.74878498e-01, 4.34874501e-01,\n",
       "       3.28966612e-01, 2.48851178e-01, 1.88246790e-01, 1.42401793e-01,\n",
       "       1.07721735e-01, 8.14875417e-02, 6.16423370e-02, 4.66301673e-02,\n",
       "       3.52740116e-02, 2.66834962e-02, 2.01850863e-02, 1.52692775e-02,\n",
       "       1.15506485e-02, 8.73764200e-03, 6.60970574e-03, 5.00000000e-03]),\n",
       "        cv=10, scoring=&#x27;neg_mean_squared_error&#x27;)</pre></div></div></div></div></div>"
      ],
      "text/plain": [
       "RidgeCV(alphas=array([5.00000000e+09, 3.78231664e+09, 2.86118383e+09, 2.16438064e+09,\n",
       "       1.63727458e+09, 1.23853818e+09, 9.36908711e+08, 7.08737081e+08,\n",
       "       5.36133611e+08, 4.05565415e+08, 3.06795364e+08, 2.32079442e+08,\n",
       "       1.75559587e+08, 1.32804389e+08, 1.00461650e+08, 7.59955541e+07,\n",
       "       5.74878498e+07, 4.34874501e+07, 3.28966612e+07, 2.48851178e+07,\n",
       "       1.88246790e+07, 1.42401793e+0...\n",
       "       3.06795364e+00, 2.32079442e+00, 1.75559587e+00, 1.32804389e+00,\n",
       "       1.00461650e+00, 7.59955541e-01, 5.74878498e-01, 4.34874501e-01,\n",
       "       3.28966612e-01, 2.48851178e-01, 1.88246790e-01, 1.42401793e-01,\n",
       "       1.07721735e-01, 8.14875417e-02, 6.16423370e-02, 4.66301673e-02,\n",
       "       3.52740116e-02, 2.66834962e-02, 2.01850863e-02, 1.52692775e-02,\n",
       "       1.15506485e-02, 8.73764200e-03, 6.60970574e-03, 5.00000000e-03]),\n",
       "        cv=10, scoring='neg_mean_squared_error')"
      ]
     },
     "execution_count": 46,
     "metadata": {},
     "output_type": "execute_result"
    }
   ],
   "source": [
    "ridgecv = RidgeCV(alphas=lambdalar2 , scoring=\"neg_mean_squared_error\" , cv=10).fit(x_train , y_train)     # Modeli kurduk"
   ]
  },
  {
   "cell_type": "code",
   "execution_count": 47,
   "metadata": {},
   "outputs": [
    {
     "data": {
      "text/plain": [
       "1526927.7544167063"
      ]
     },
     "execution_count": 47,
     "metadata": {},
     "output_type": "execute_result"
    }
   ],
   "source": [
    "ridgecv.alpha_  # optimum yani olması gereken alfa(lambda) değeri"
   ]
  },
  {
   "cell_type": "code",
   "execution_count": 51,
   "metadata": {},
   "outputs": [
    {
     "data": {
      "text/plain": [
       "356.8082905730236"
      ]
     },
     "execution_count": 51,
     "metadata": {},
     "output_type": "execute_result"
    }
   ],
   "source": [
    "# Final Modeli\n",
    "\n",
    "ridge_tuned = Ridge(alpha=ridgecv.alpha_).fit(x_train , y_train)\n",
    "\n",
    "y_pred = ridge_model.predict(x_test)\n",
    "np.sqrt(mean_squared_error(y_test , y_pred))"
   ]
  }
 ],
 "metadata": {
  "kernelspec": {
   "display_name": "Python 3",
   "language": "python",
   "name": "python3"
  },
  "language_info": {
   "codemirror_mode": {
    "name": "ipython",
    "version": 3
   },
   "file_extension": ".py",
   "mimetype": "text/x-python",
   "name": "python",
   "nbconvert_exporter": "python",
   "pygments_lexer": "ipython3",
   "version": "3.11.4"
  },
  "orig_nbformat": 4
 },
 "nbformat": 4,
 "nbformat_minor": 2
}
